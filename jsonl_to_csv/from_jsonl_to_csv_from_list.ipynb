{
 "cells": [
  {
   "cell_type": "code",
   "execution_count": null,
   "metadata": {},
   "outputs": [],
   "source": [
    "#############################################\n",
    "##'''convert list type jsonl data to csv'''##\n",
    "###@SerajMostafa, Montana State University###\n",
    "########serajmostafa@montana.edu#############\n",
    "###############################<©sermost>####\n",
    "#############################################"
   ]
  },
  {
   "cell_type": "code",
   "execution_count": 1,
   "metadata": {},
   "outputs": [],
   "source": [
    "import json\n",
    "import pandas as pd\n",
    "import numpy as np"
   ]
  },
  {
   "cell_type": "code",
   "execution_count": null,
   "metadata": {},
   "outputs": [],
   "source": [
    "with open('dummy.jsonl', 'r', encoding=\"utf8\") as file:\n",
    "  for json_str in file:\n",
    "    data = json.loads(json_str)"
   ]
  },
  {
   "cell_type": "code",
   "execution_count": null,
   "metadata": {},
   "outputs": [],
   "source": [
    "def findKey(result, path): #path= [a,b,c]\n",
    "  pointer = result\n",
    "  for i in range(len(path)):\n",
    "    if pointer is not None and path[i] in pointer:\n",
    "      pointer = pointer[path[i]]\n",
    "    else:\n",
    "      #print(path[i], \"not in\", \"->\".join([\"result\", *path[:i]]))\n",
    "      print(\"no data\")\n",
    "      return None\n",
    "  return pointer"
   ]
  },
  {
   "cell_type": "code",
   "execution_count": null,
   "metadata": {},
   "outputs": [],
   "source": [
    "table = []\n",
    "with open('dummy.jsonl', 'r', encoding=\"utf8\") as file:\n",
    "  for json_str in file:\n",
    "    result = json.loads(json_str)\n",
    "    row = []\n",
    "#     print(findKey(result, [\"entities\",\"urls\",\"indices\"])); \n",
    "#     print(findKey(result, [\"user\",\"id_str\"])); #print(findKey(result, [\"user\", \"id\"])); #print(findKey(result, [\"user\", \"name\"]))\n",
    "\n",
    "    ## Re-tweets >> get all the retweets information\n",
    "    row.append(findKey(result, [\"data\",\"created_at\"]))\n",
    "    row.append(findKey(result, [\"data\",\"entities\",\"mentions\",\"username\"]))\n",
    "    row.append(findKey(result, [\"data\",\"entities\",\"hashtags\",\"tag\"]))    \n",
    "    row.append(findKey(result, [\"data\",\"lang\"]))\n",
    "    row.append(findKey(result, [\"data\",\"conversation_id\"]))\n",
    "    row.append(findKey(result, [\"data\",\"author_id\"]))    \n",
    "    row.append(findKey(result, [\"data\",\"public_metrics\",\"retweet_count\"]))    \n",
    "    row.append(findKey(result, [\"data\",\"public_metrics\",\"reply_count\"]))    \n",
    "    row.append(findKey(result, [\"data\",\"public_metrics\",\"like_count\"]))    \n",
    "    row.append(findKey(result, [\"data\",\"public_metrics\",\"quote_count\"\"]))\n",
    "    \n",
    "    ## Tweets >> get all the tweets information    \n",
    "    row.append(findKey(result, [\"includes\",\"tweets\", \"created_at\"]))\n",
    "    row.append(findKey(result, [\"includes\",\"tweets\", \"lang\"]))\n",
    "    row.append(findKey(result, [\"includes\",\"tweets\", \"text\"]))\n",
    "    row.append(findKey(result, [\"tweets\", \"conversation_id\"]))\n",
    "    row.append(findKey(result, [\"tweets\", \"entities\",\"hashtags\",\"tag\"]))\n",
    "    row.append(findKey(result, [\"tweets\", \"author_id\"]))\n",
    "    row.append(findKey(result, [\"tweets\",\"public_metrics\",\"retweet_count\"]))    \n",
    "    row.append(findKey(result, [\"tweets\",\"public_metrics\",\"reply_count\"]))    \n",
    "    row.append(findKey(result, [\"tweets\",\"public_metrics\",\"like_count\"]))    \n",
    "    row.append(findKey(result, [\"tweets\",\"public_metrics\",\"quote_count\"\"]))\n",
    "                             \n",
    "    table.append(row)"
   ]
  },
  {
   "cell_type": "code",
   "execution_count": null,
   "metadata": {},
   "outputs": [],
   "source": [
    "table_df = pd.DataFrame(table, columns =[\n",
    "    \"rt_created_at\",\n",
    "    \"rt_user_id\",\n",
    "#     \"rt_language\",\n",
    "#     \"retweet_text\",\n",
    "\n",
    "            \"user_mentions_screen_name\",\n",
    "            \"user_mentions_name\",\n",
    "            \"user_mentions_id\",\n",
    "            \n",
    "            \"user_id\",\n",
    "            \"user_name\",\n",
    "            \"user_screen_name\",\n",
    "            \"user_location\",\n",
    "            \"user_description\",\n",
    "            \"user_followers_count\",\n",
    "            \"user_friends_count\",\n",
    "            \"user_listed_count\",\n",
    "            \"user_created_at\",\n",
    "            \"user_favourites_count\",\n",
    "            \"user_statuses_count\",\n",
    "\n",
    "    \"t_created_at\",\n",
    "    \"lang\",\n",
    "    \"text\"\n",
    "            \"rt_id\",\n",
    "            \"rt_text\",\n",
    "            \"t_author_id\",\n",
    "            \"rt_user_name\",\n",
    "            \"rt_user_screen_name\",\n",
    "            \"rt_user_location\",\n",
    "            \"rt_user_followers_count\",\n",
    "            \"rt_user_friends_count\",\n",
    "            \"rt_user_listed_count\",\n",
    "            \"rt_user_created_at\",\n",
    "            \"rt_user_favourites_count\",\n",
    "            \"rt_user_statuses_count\"\n",
    "            \"rt_user_retweet_count\",\n",
    "            \"rt_user_favorite_count\"\n",
    "])"
   ]
  },
  {
   "cell_type": "code",
   "execution_count": null,
   "metadata": {},
   "outputs": [],
   "source": [
    "table_df"
   ]
  },
  {
   "cell_type": "code",
   "execution_count": null,
   "metadata": {},
   "outputs": [],
   "source": [
    "## Now convert table to DF if needed"
   ]
  }
 ],
 "metadata": {
  "kernelspec": {
   "display_name": "Python 3",
   "language": "python",
   "name": "python3"
  },
  "language_info": {
   "codemirror_mode": {
    "name": "ipython",
    "version": 3
   },
   "file_extension": ".py",
   "mimetype": "text/x-python",
   "name": "python",
   "nbconvert_exporter": "python",
   "pygments_lexer": "ipython3",
   "version": "3.8.3"
  }
 },
 "nbformat": 4,
 "nbformat_minor": 4
}
